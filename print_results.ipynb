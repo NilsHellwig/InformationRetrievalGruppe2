{
 "metadata": {
  "language_info": {
   "codemirror_mode": {
    "name": "ipython",
    "version": 3
   },
   "file_extension": ".py",
   "mimetype": "text/x-python",
   "name": "python",
   "nbconvert_exporter": "python",
   "pygments_lexer": "ipython3",
   "version": "3.8.5-final"
  },
  "orig_nbformat": 2,
  "kernelspec": {
   "name": "python3",
   "display_name": "Python 3.8.5 64-bit ('.venv': venv)",
   "metadata": {
    "interpreter": {
     "hash": "b65143e500089a281ce67e83a609326b49366892b0462074179f851e1e6fa36b"
    }
   }
  }
 },
 "nbformat": 4,
 "nbformat_minor": 2,
 "cells": [
  {
   "source": [
    "## Import Results"
   ],
   "cell_type": "markdown",
   "metadata": {}
  },
  {
   "cell_type": "code",
   "execution_count": 31,
   "metadata": {},
   "outputs": [],
   "source": [
    "import json\n",
    "\n",
    "# content predictions\n",
    "with open(\"content_predictions.json\") as json_file:\n",
    "    content_predictions = json.load(json_file)\n",
    "\n",
    "# advertisement agency predictions\n",
    "with open(\"advertisement_agency_predictions.json\") as json_file:\n",
    "    agency_predictions = json.load(json_file)\n",
    "\n",
    "# title predictions\n",
    "with open(\"title_predictions.json\") as json_file:\n",
    "    title_predictions = json.load(json_file)"
   ]
  },
  {
   "source": [
    "## Show results for test documents"
   ],
   "cell_type": "markdown",
   "metadata": {}
  },
  {
   "cell_type": "code",
   "execution_count": 33,
   "metadata": {},
   "outputs": [
    {
     "output_type": "stream",
     "name": "stdout",
     "text": [
      "fake - x -\nfake - - -\nreal - - -\nfake - - -\nfake - - -\nreal - - -\nreal - - -\nreal - - -\nreal x - -\nreal - x x\nfake x x x\nreal - - -\nreal - - -\nfake x x -\nfake x - x\nfake x x x\nfake x - x\nreal - - -\nreal - - -\nfake x x -\nfake - - x\nreal - - x\nreal - - -\nfake x x x\nfake x - -\nfake x - -\nfake x x -\nreal - - -\nreal x - -\nreal x x -\nfake x x x\nreal - x -\nreal - - -\nfake x x x\nfake x x x\nreal - - -\nreal x x x\nfake x x x\nfake x x x\nreal x x -\nreal - x -\nreal - x x\nfake x - -\nfake - - x\nreal - - -\nreal - - -\nfake - - -\nfake x x -\n0.6666666666666666\n"
     ]
    }
   ],
   "source": [
    "# labels for test data\n",
    "test_y = [\"fake\",\"fake\",\"real\",\"fake\",\"fake\",\"real\",\"real\",\"real\",\"real\",\"real\",\"fake\",\"real\",\"real\",\"fake\",\"fake\",\"fake\",\"fake\",\"real\",\"real\",\"fake\",\"fake\",\"real\",\"real\",\"fake\",\"fake\",\"fake\",\"fake\",\"real\",\"real\",\"real\",\"fake\",\"real\",\"real\",\"fake\",\"fake\",\"real\",\"real\",\"fake\",\"fake\",\"real\",\"real\",\"real\",\"fake\",\"fake\",\"real\",\"real\",\"fake\",\"fake\"]\n",
    "\n",
    "with open(\"test_document_ids.txt\",\"r\") as f:\n",
    "    test_document_ids = [line.rstrip() for line in f]\n",
    "index = 0\n",
    "total_count = 0\n",
    "count = 0\n",
    "for doc_id in test_document_ids:\n",
    "    warning_ads = \"-\"\n",
    "    warning_content = \"-\"\n",
    "    warning_title = \"-\"\n",
    "\n",
    "    if agency_predictions[doc_id][\"certainity\"] > 0.5 and agency_predictions[doc_id][\"prediction\"] == \"fake\":\n",
    "        warning_ads = \"x\"\n",
    "\n",
    "    if content_predictions[doc_id][\"certainity\"] > 0.8 and content_predictions[doc_id][\"prediction\"] == \"fake\":\n",
    "        if (title_predictions[doc_id][\"prediction\"] == \"real\" and title_predictions[doc_id][\"certainity\"] > 0.8) == False:\n",
    "            warning_content = \"x\"\n",
    "\n",
    "    if title_predictions[doc_id][\"certainity\"] > 0.8 and title_predictions[doc_id][\"prediction\"] == \"fake\":\n",
    "        if (content_predictions[doc_id][\"prediction\"] == \"real\" and content_predictions[doc_id][\"certainity\"] > 0.8) == False:\n",
    "            warning_title = \"x\"\n",
    "    \n",
    "    if warning_content != \"-\" or warning_title != \"-\" or warning_ads != \"-\":\n",
    "        total_count +=1\n",
    "        if test_y[index] == \"fake\":\n",
    "            count += 1\n",
    "    print(test_y[index], warning_content,warning_title,warning_ads)\n",
    "    #print(test_y[index],content_predictions[doc_id][\"prediction\"], title_predictions[doc_id][\"prediction\"], agency_predictions[doc_id][\"prediction\"])\n",
    "    index += 1\n",
    "\n",
    "print(count/total_count)"
   ]
  },
  {
   "cell_type": "code",
   "execution_count": null,
   "metadata": {},
   "outputs": [],
   "source": []
  }
 ]
}