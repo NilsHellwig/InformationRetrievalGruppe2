{
 "metadata": {
  "language_info": {
   "codemirror_mode": {
    "name": "ipython",
    "version": 3
   },
   "file_extension": ".py",
   "mimetype": "text/x-python",
   "name": "python",
   "nbconvert_exporter": "python",
   "pygments_lexer": "ipython3",
   "version": "3.8.5-final"
  },
  "orig_nbformat": 2,
  "kernelspec": {
   "name": "python3",
   "display_name": "Python 3",
   "language": "python"
  }
 },
 "nbformat": 4,
 "nbformat_minor": 2,
 "cells": [
  {
   "source": [
    "## Import Results"
   ],
   "cell_type": "markdown",
   "metadata": {}
  },
  {
   "cell_type": "code",
   "execution_count": 45,
   "metadata": {},
   "outputs": [],
   "source": [
    "import json\n",
    "\n",
    "# content predictions\n",
    "with open(\"predictions/\"+\"content_predictions.json\") as json_file:\n",
    "    content_predictions = json.load(json_file)\n",
    "\n",
    "# advertisement agency predictions\n",
    "with open(\"predictions/\"+\"advertisement_agency_predictions.json\") as json_file:\n",
    "    agency_predictions = json.load(json_file)\n",
    "\n",
    "# title predictions\n",
    "with open(\"predictions/\"+\"title_predictions.json\") as json_file:\n",
    "    title_predictions = json.load(json_file)"
   ]
  },
  {
   "source": [
    "## Show results for test documents"
   ],
   "cell_type": "markdown",
   "metadata": {}
  },
  {
   "cell_type": "code",
   "execution_count": 46,
   "metadata": {},
   "outputs": [
    {
     "output_type": "stream",
     "name": "stdout",
     "text": [
      "48\nc2e0da8e-0306-4a4b-b593-84c8a45395db real - o x\ncabe8e93-81be-4d48-8333-266f731af782 real x - x\n0ea1f2e6-b532-44c0-821f-70a6ef6735eb fake x - x\ncb5946b7-39a9-4d03-aa3a-9930a4c3d77e real - x x\ndaee3dea-9939-4a41-a54c-8c48fd25f4b8 real x x x\n60781b1a-0a9c-4802-9e0f-eea97e20db36 fake - x x\nb9cbbf6a-43d8-4be3-aa6c-da60d1161ba8 fake x x x\n670f17e8-1fa3-4a8b-9dc7-272e07e833ee fake x - x\n06595b02-6a27-481e-adc3-f4f49a7fc124 fake o o x\n6cf338bc-8613-4077-8878-f95ff6d1c9eb fake - o o\n11755246-3c48-4ba3-afa4-d26e038c2a55 real o o o\nb3c912ec-f594-4fb8-92f0-555a0cf521cc fake x x x\n18526cf6-d581-4339-880c-a277cdb3fb1e fake x x x\n5ecba7b7-008a-4a6d-b377-55d6051656e9 real o o x\n4ff03983-427e-4f09-b00f-b35619ca7aab real o - o\n192eca32-d5c4-4933-9b6d-8434f9ebf48c real o o o\nea4435da-9f61-469d-a11a-33fcb9653054 real o o x\nfe95c08a-a416-44e9-b564-612daff46542 fake x x x\n26f92135-ee3e-48dd-a6d6-4c9956f781ca fake x x x\nd79927e3-a709-47d6-a2b9-826d6fe3762d fake o o x\nfb6a1e79-37cf-4cbd-ad3f-48fa25dcf9ab real o - o\n2b771286-15ce-48e9-875d-a43907557f24 fake x - o\ne31bfeb5-768f-417e-b881-4cf6d44c6d03 fake x x x\nf4ffaa81-0d24-42eb-ab94-23143f4b24d1 real o o o\n019cb0b8-c38c-40e5-ac87-4ebafc8cdae4 real o o x\n00f9666f-622f-4aca-9861-6cab59a5fd8b real o o x\n041ef27a-3b9e-46a8-8cc3-cffe5393dd18 real o o o\n0ec0fc93-20d0-4bdc-9d36-a1ac105f6936 fake - - x\n13cb7319-7457-40b1-9ac8-f794e8c9fe13 fake o - x\n39e4f6e6-be4d-4967-9420-98a42186a1e7 fake o o x\n04e05b6b-30e8-483d-9154-da720b88d8d1 real o o o\n4691085c-10fb-42f6-ab61-56fb7ad278e8 fake - o x\n0e83c71c-aa23-46b5-9835-c9d19055e320 fake x x x\n00626f03-9413-4d60-a177-8536b4b81ac1 real o o o\nfb46d636-944c-4501-be54-4e43745f32a2 real o o o\na1b82a39-fa13-4168-bcd3-518cff9d6f94 fake x x x\n61b2a4a9-046f-440d-ad50-e7d5768e5338 fake o o o\n012f6998-5906-4d3c-b3d6-1bdefe8e7fe9 real o o o\n01ab12d1-27c9-43f5-9445-8c151995ba6b real o o o\n5ab9c311-e644-4f2c-9b88-cf57bd227b93 fake o o x\n00a10a00-761f-4940-bf86-fa04b38f8948 fake - o x\n053ccf3a-ebd6-485b-b2e4-01a0949c3a45 fake - o o\n03209ccd-0a82-4822-af66-5894431ca33b real o - x\n05f9ac69-e175-4b20-bd7f-b240c442660e real x - o\n0bd1427d-aafd-41bc-9c1f-02c8268de860 fake x x x\nd73eb8d0-3d49-4753-b6ee-bec406df1d7c fake x x x\nc9ac63a5-802e-47b7-aaee-b28f166d56c5 real - o x\n1f52b3fe-b53c-48c0-8dd2-a0427bb1609f real o o x\n0.9047619047619048\n"
     ]
    }
   ],
   "source": [
    "\n",
    "with open(\"test_document_ids.txt\",\"r\") as f:\n",
    "    test_document_ids = [line.rstrip() for line in f]\n",
    "\n",
    "\n",
    "file_path = \"assessments_with_bl.txt\"\n",
    "with open(file_path) as f:\n",
    "    assessments = f.readlines()\n",
    "\n",
    "test_y = []\n",
    "individuals = []\n",
    "for doc_id in test_document_ids:\n",
    "    for doc in assessments:\n",
    "        if doc.split(' ')[2] == doc_id:\n",
    "            if doc.split(' ')[3] == \"2\" and (doc_id in individuals) == False:\n",
    "                individuals.append(doc_id)\n",
    "                test_y.append(\"real\")\n",
    "            elif (doc_id in individuals) == False:\n",
    "                individuals.append(doc_id)\n",
    "                test_y.append(\"fake\")\n",
    "\n",
    "print(len(test_y))    \n",
    "\n",
    "\n",
    "\n",
    "index = 0\n",
    "total_count = 0\n",
    "count = 0\n",
    "for doc_id in test_document_ids:\n",
    "    warning_ads = \"-\"\n",
    "    warning_content = \"-\"\n",
    "    warning_title = \"-\"\n",
    "\n",
    "    ### Non Credible Articles\n",
    "    if agency_predictions[doc_id][\"certainity\"] > 0.5 and agency_predictions[doc_id][\"prediction\"] == \"fake\":\n",
    "        warning_ads = \"x\"\n",
    "\n",
    "    if content_predictions[doc_id][\"certainity\"] > 0.7 and content_predictions[doc_id][\"prediction\"] == \"fake\":\n",
    "        if (title_predictions[doc_id][\"prediction\"] == \"real\" and title_predictions[doc_id][\"certainity\"] > 0.7) == False:\n",
    "            warning_content = \"x\"\n",
    "\n",
    "    if title_predictions[doc_id][\"certainity\"] > 0.7 and title_predictions[doc_id][\"prediction\"] == \"fake\":\n",
    "        if (content_predictions[doc_id][\"prediction\"] == \"real\" and content_predictions[doc_id][\"certainity\"] > 0.7) == False:\n",
    "            warning_title = \"x\"\n",
    "    \n",
    "    ### Credible Articles\n",
    "    if agency_predictions[doc_id][\"certainity\"] > 0.5 and agency_predictions[doc_id][\"prediction\"] == \"real\":\n",
    "        warning_ads = \"o\"\n",
    "\n",
    "    if content_predictions[doc_id][\"certainity\"] > 0.7 and content_predictions[doc_id][\"prediction\"] == \"real\":\n",
    "        if (title_predictions[doc_id][\"prediction\"] == \"fake\" and title_predictions[doc_id][\"certainity\"] > 0.7) == False:\n",
    "            warning_content = \"o\"\n",
    "\n",
    "    if title_predictions[doc_id][\"certainity\"] > 0.7 and title_predictions[doc_id][\"prediction\"] == \"real\":\n",
    "        if (content_predictions[doc_id][\"prediction\"] == \"fake\" and content_predictions[doc_id][\"certainity\"] > 0.7) == False:\n",
    "            warning_title = \"o\"\n",
    "\n",
    "\n",
    "    if warning_content == \"x\" and warning_title == \"x\" and warning_ads == \"x\":\n",
    "        total_count += 1\n",
    "        if test_y[index] == \"fake\":\n",
    "            count += 1\n",
    "    if warning_content == \"o\" and warning_title == \"o\" and warning_ads == \"o\":\n",
    "        total_count += 1\n",
    "        if test_y[index] == \"real\":\n",
    "            count += 1\n",
    "\n",
    "    \n",
    "    print(doc_id, test_y[index], warning_content,warning_title,warning_ads)\n",
    "    #print(test_y[index],content_predictions[doc_id][\"prediction\"], title_predictions[doc_id][\"prediction\"], agency_predictions[doc_id][\"prediction\"])\n",
    "    index += 1\n",
    "\n",
    "print(count/total_count)"
   ]
  },
  {
   "cell_type": "code",
   "execution_count": null,
   "metadata": {},
   "outputs": [],
   "source": []
  }
 ]
}