{
 "metadata": {
  "language_info": {
   "codemirror_mode": {
    "name": "ipython",
    "version": 3
   },
   "file_extension": ".py",
   "mimetype": "text/x-python",
   "name": "python",
   "nbconvert_exporter": "python",
   "pygments_lexer": "ipython3",
   "version": "3.8.5-final"
  },
  "orig_nbformat": 2,
  "kernelspec": {
   "name": "python3",
   "display_name": "Python 3",
   "language": "python"
  }
 },
 "nbformat": 4,
 "nbformat_minor": 2,
 "cells": [
  {
   "source": [
    "## Import Results"
   ],
   "cell_type": "markdown",
   "metadata": {}
  },
  {
   "cell_type": "code",
   "execution_count": 31,
   "metadata": {},
   "outputs": [],
   "source": [
    "import json\n",
    "\n",
    "# content predictions\n",
    "with open(\"predictions/\"+\"content_predictions.json\") as json_file:\n",
    "    content_predictions = json.load(json_file)\n",
    "\n",
    "# advertisement agency predictions\n",
    "with open(\"predictions/\"+\"advertisement_agency_predictions.json\") as json_file:\n",
    "    agency_predictions = json.load(json_file)\n",
    "\n",
    "# title predictions\n",
    "with open(\"predictions/\"+\"title_predictions.json\") as json_file:\n",
    "    title_predictions = json.load(json_file)\n",
    "\n",
    "# load raw snippet data\n",
    "with open(\"raw_snippet_data.json\") as json_file:\n",
    "    raw_snippet_data = json.load(json_file)"
   ]
  },
  {
   "cell_type": "code",
   "execution_count": 32,
   "metadata": {
    "tags": []
   },
   "outputs": [],
   "source": [
    "def get_snippet_by_id(doc_id):\n",
    "  for obj in raw_snippet_data:\n",
    "      for snippet in obj[\"snippets\"]:\n",
    "          if snippet[\"snippet_id\"] == doc_id:\n",
    "              return snippet\n",
    "  return None\n",
    "\n",
    "def save_snippet_by_json(json_obj, topic, doc_id):\n",
    "    with open(\"baseline/topics/\"+str(topic)+\"/\"+doc_id+\".json\", 'w') as outfile:\n",
    "       json.dump(json_obj, outfile)"
   ]
  },
  {
   "cell_type": "code",
   "execution_count": 33,
   "metadata": {},
   "outputs": [],
   "source": [
    "def save_snippet_in_baseline(warning_text,doc_id,topic):\n",
    "    #print(warning_text,doc_id,topic)\n",
    "    snippet_data = get_snippet_by_id(doc_id)\n",
    "    title = snippet_data[\"snippet_title\"]\n",
    "    url = snippet_data[\"snippet_url\"]\n",
    "    content = snippet_data[\"snippet_description\"]\n",
    "    obj = {\n",
    "        \"title\" : title,\n",
    "        \"url\" : url,\n",
    "        \"content\" : content,\n",
    "        \"warning\" : warning_text\n",
    "    }\n",
    "    save_snippet_by_json(obj, topic, doc_id)\n",
    "    "
   ]
  },
  {
   "source": [
    "## Show results for test documents"
   ],
   "cell_type": "markdown",
   "metadata": {}
  },
  {
   "cell_type": "code",
   "execution_count": 34,
   "metadata": {
    "tags": []
   },
   "outputs": [
    {
     "output_type": "stream",
     "name": "stdout",
     "text": [
      "48\nc2e0da8e-0306-4a4b-b593-84c8a45395db real - o x\ncabe8e93-81be-4d48-8333-266f731af782 real x - x\n0ea1f2e6-b532-44c0-821f-70a6ef6735eb fake x - x\ncb5946b7-39a9-4d03-aa3a-9930a4c3d77e real - x x\nBased on the title, text and advertising content on this page, there is a risk that this page is not credible!\ndaee3dea-9939-4a41-a54c-8c48fd25f4b8 real x x x\n60781b1a-0a9c-4802-9e0f-eea97e20db36 fake - x x\nBased on the title, text and advertising content on this page, there is a risk that this page is not credible!\nb9cbbf6a-43d8-4be3-aa6c-da60d1161ba8 fake x x x\n670f17e8-1fa3-4a8b-9dc7-272e07e833ee fake x - x\n06595b02-6a27-481e-adc3-f4f49a7fc124 fake o o x\n6cf338bc-8613-4077-8878-f95ff6d1c9eb fake - o o\nBased on the title, text and advertising content on this page, it can be assumed that this page is credible!\n11755246-3c48-4ba3-afa4-d26e038c2a55 real o o o\nBased on the title, text and advertising content on this page, there is a risk that this page is not credible!\nb3c912ec-f594-4fb8-92f0-555a0cf521cc fake x x x\nBased on the title, text and advertising content on this page, there is a risk that this page is not credible!\n18526cf6-d581-4339-880c-a277cdb3fb1e fake x x x\n5ecba7b7-008a-4a6d-b377-55d6051656e9 real o o x\n4ff03983-427e-4f09-b00f-b35619ca7aab real o - o\nBased on the title, text and advertising content on this page, it can be assumed that this page is credible!\n192eca32-d5c4-4933-9b6d-8434f9ebf48c real o o o\nea4435da-9f61-469d-a11a-33fcb9653054 real o o x\nBased on the title, text and advertising content on this page, there is a risk that this page is not credible!\nfe95c08a-a416-44e9-b564-612daff46542 fake x x x\nBased on the title, text and advertising content on this page, there is a risk that this page is not credible!\n26f92135-ee3e-48dd-a6d6-4c9956f781ca fake x x x\nd79927e3-a709-47d6-a2b9-826d6fe3762d fake o o x\nfb6a1e79-37cf-4cbd-ad3f-48fa25dcf9ab real o - o\n2b771286-15ce-48e9-875d-a43907557f24 fake x - o\nBased on the title, text and advertising content on this page, there is a risk that this page is not credible!\ne31bfeb5-768f-417e-b881-4cf6d44c6d03 fake x x x\nBased on the title, text and advertising content on this page, it can be assumed that this page is credible!\nf4ffaa81-0d24-42eb-ab94-23143f4b24d1 real o o o\n019cb0b8-c38c-40e5-ac87-4ebafc8cdae4 real o - x\n00f9666f-622f-4aca-9861-6cab59a5fd8b real o o x\nBased on the title, text and advertising content on this page, it can be assumed that this page is credible!\n041ef27a-3b9e-46a8-8cc3-cffe5393dd18 real o o o\n0ec0fc93-20d0-4bdc-9d36-a1ac105f6936 fake - o x\n"
     ]
    },
    {
     "output_type": "error",
     "ename": "TypeError",
     "evalue": "'NoneType' object is not subscriptable",
     "traceback": [
      "\u001b[0;31m---------------------------------------------------------------------------\u001b[0m",
      "\u001b[0;31mTypeError\u001b[0m                                 Traceback (most recent call last)",
      "\u001b[0;32m<ipython-input-34-32ea39ef030b>\u001b[0m in \u001b[0;36m<module>\u001b[0;34m\u001b[0m\n\u001b[1;32m     77\u001b[0m \u001b[0;34m\u001b[0m\u001b[0m\n\u001b[1;32m     78\u001b[0m \u001b[0;34m\u001b[0m\u001b[0m\n\u001b[0;32m---> 79\u001b[0;31m     \u001b[0msave_snippet_in_baseline\u001b[0m\u001b[0;34m(\u001b[0m\u001b[0mwarning_text\u001b[0m\u001b[0;34m,\u001b[0m\u001b[0mdoc_id\u001b[0m\u001b[0;34m,\u001b[0m\u001b[0mtopics_y\u001b[0m\u001b[0;34m[\u001b[0m\u001b[0mindex\u001b[0m\u001b[0;34m]\u001b[0m\u001b[0;34m)\u001b[0m\u001b[0;34m\u001b[0m\u001b[0;34m\u001b[0m\u001b[0m\n\u001b[0m\u001b[1;32m     80\u001b[0m     \u001b[0;31m# print results of evaluation\u001b[0m\u001b[0;34m\u001b[0m\u001b[0;34m\u001b[0m\u001b[0;34m\u001b[0m\u001b[0m\n\u001b[1;32m     81\u001b[0m     \u001b[0mprint\u001b[0m\u001b[0;34m(\u001b[0m\u001b[0mdoc_id\u001b[0m\u001b[0;34m,\u001b[0m \u001b[0mtest_y\u001b[0m\u001b[0;34m[\u001b[0m\u001b[0mindex\u001b[0m\u001b[0;34m]\u001b[0m\u001b[0;34m,\u001b[0m \u001b[0mwarning_content\u001b[0m\u001b[0;34m,\u001b[0m\u001b[0mwarning_title\u001b[0m\u001b[0;34m,\u001b[0m\u001b[0mwarning_ads\u001b[0m\u001b[0;34m)\u001b[0m\u001b[0;34m\u001b[0m\u001b[0;34m\u001b[0m\u001b[0m\n",
      "\u001b[0;32m<ipython-input-33-ca10c08f216e>\u001b[0m in \u001b[0;36msave_snippet_in_baseline\u001b[0;34m(warning_text, doc_id, topic)\u001b[0m\n\u001b[1;32m      2\u001b[0m     \u001b[0;31m#print(warning_text,doc_id,topic)\u001b[0m\u001b[0;34m\u001b[0m\u001b[0;34m\u001b[0m\u001b[0;34m\u001b[0m\u001b[0m\n\u001b[1;32m      3\u001b[0m     \u001b[0msnippet_data\u001b[0m \u001b[0;34m=\u001b[0m \u001b[0mget_snippet_by_id\u001b[0m\u001b[0;34m(\u001b[0m\u001b[0mdoc_id\u001b[0m\u001b[0;34m)\u001b[0m\u001b[0;34m\u001b[0m\u001b[0;34m\u001b[0m\u001b[0m\n\u001b[0;32m----> 4\u001b[0;31m     \u001b[0mtitle\u001b[0m \u001b[0;34m=\u001b[0m \u001b[0msnippet_data\u001b[0m\u001b[0;34m[\u001b[0m\u001b[0;34m\"snippet_title\"\u001b[0m\u001b[0;34m]\u001b[0m\u001b[0;34m\u001b[0m\u001b[0;34m\u001b[0m\u001b[0m\n\u001b[0m\u001b[1;32m      5\u001b[0m     \u001b[0murl\u001b[0m \u001b[0;34m=\u001b[0m \u001b[0msnippet_data\u001b[0m\u001b[0;34m[\u001b[0m\u001b[0;34m\"snippet_url\"\u001b[0m\u001b[0;34m]\u001b[0m\u001b[0;34m\u001b[0m\u001b[0;34m\u001b[0m\u001b[0m\n\u001b[1;32m      6\u001b[0m     \u001b[0mcontent\u001b[0m \u001b[0;34m=\u001b[0m \u001b[0msnippet_data\u001b[0m\u001b[0;34m[\u001b[0m\u001b[0;34m\"snippet_description\"\u001b[0m\u001b[0;34m]\u001b[0m\u001b[0;34m\u001b[0m\u001b[0;34m\u001b[0m\u001b[0m\n",
      "\u001b[0;31mTypeError\u001b[0m: 'NoneType' object is not subscriptable"
     ]
    }
   ],
   "source": [
    "topics_y = [9,9,9,9,9,9,9,9,20,20,20,20,20,20,20,20,25,25,25,25,25,25,25,25,30,30,30,30,30,30,30,30,47,47,47,47,47,47,47,47,49,49,49,49,49,49,49,49]\n",
    "\n",
    "# first we need to load the ids of the test documents\n",
    "with open(\"test_document_ids.txt\",\"r\") as f:\n",
    "    test_document_ids = [line.rstrip() for line in f]\n",
    "\n",
    "# load assessments txt file to load labels of test data to evaluate model\n",
    "file_path = \"assessments_with_bl.txt\"\n",
    "with open(file_path) as f:\n",
    "    assessments = f.readlines()\n",
    "\n",
    "# load / save labels of test data in test_y\n",
    "test_y = []\n",
    "individuals = []\n",
    "for doc_id in test_document_ids:\n",
    "    for doc in assessments:\n",
    "        if doc.split(' ')[2] == doc_id:\n",
    "            if doc.split(' ')[3] == \"2\" and (doc_id in individuals) == False:\n",
    "                individuals.append(doc_id)\n",
    "                test_y.append(\"real\")\n",
    "            elif (doc_id in individuals) == False:\n",
    "                individuals.append(doc_id)\n",
    "                test_y.append(\"fake\")\n",
    "print(len(test_y))    \n",
    "\n",
    "# print current index while evaluating each document\n",
    "index = 0\n",
    "\n",
    "# count how many times all classifiers predict the same label\n",
    "total_count = 0\n",
    "\n",
    "# count how many times all classifiers predict the same label correctly\n",
    "count = 0\n",
    "\n",
    "threshold = 0.7\n",
    "\n",
    "num_of_hints = 0\n",
    "for doc_id in test_document_ids:\n",
    "    warning_ads = \"-\"\n",
    "    warning_content = \"-\"\n",
    "    warning_title = \"-\"\n",
    "    warning_text = \"\"\n",
    "    # agency predictions for fake \n",
    "    if agency_predictions[doc_id][\"certainity\"] > 0.5 and agency_predictions[doc_id][\"prediction\"] == \"fake\":\n",
    "        warning_ads = \"x\"\n",
    "    # content predictions for fake     \n",
    "    if content_predictions[doc_id][\"certainity\"] >= threshold and content_predictions[doc_id][\"prediction\"] == \"fake\":\n",
    "        warning_content = \"x\"\n",
    "    # title predictions for fake \n",
    "    if title_predictions[doc_id][\"certainity\"] >= threshold and title_predictions[doc_id][\"prediction\"] == \"fake\":\n",
    "        warning_title = \"x\"\n",
    "    # agency predictions for real \n",
    "    if agency_predictions[doc_id][\"certainity\"] > 0.5 and agency_predictions[doc_id][\"prediction\"] == \"real\":\n",
    "        warning_ads = \"o\"\n",
    "    # content predictions for real \n",
    "    if content_predictions[doc_id][\"certainity\"] >= threshold and content_predictions[doc_id][\"prediction\"] == \"real\":\n",
    "        warning_content = \"o\"\n",
    "    # title predictions for real \n",
    "    if title_predictions[doc_id][\"certainity\"] >= threshold and title_predictions[doc_id][\"prediction\"] == \"real\":\n",
    "        warning_title = \"o\"\n",
    "    # check if all three classifiers do predict the same label (fake)\n",
    "    if warning_content == \"x\" and warning_title == \"x\" and warning_ads == \"x\":\n",
    "        total_count += 1\n",
    "        num_of_hints += 1\n",
    "        warning_text = \"Based on the title, text and advertising content on this page, there is a risk that this page is not credible!\"\n",
    "        print(warning_text)\n",
    "        if test_y[index] == \"fake\":\n",
    "            count += 1\n",
    "    # check if all three classifiers do predict the same label (real)\n",
    "    if warning_content == \"o\" and warning_title == \"o\" and warning_ads == \"o\":\n",
    "        total_count += 1\n",
    "        num_of_hints += 1\n",
    "        warning_text =  \"Based on the title, text and advertising content on this page, it can be assumed that this page is credible!\"\n",
    "        print(warning_text)\n",
    "        if test_y[index] == \"real\":\n",
    "            count += 1\n",
    "\n",
    "\n",
    "    save_snippet_in_baseline(warning_text,doc_id,topics_y[index])\n",
    "    # print results of evaluation\n",
    "    print(doc_id, test_y[index], warning_content,warning_title,warning_ads)\n",
    "    #print(test_y[index],content_predictions[doc_id][\"prediction\"], title_predictions[doc_id][\"prediction\"], agency_predictions[doc_id][\"prediction\"])\n",
    "    index += 1\n",
    "\n",
    "# Print how many of the \n",
    "print(count/total_count)\n",
    "print(\"num of hints: \", total_count, \"Num of Snippets with a hint: \", total_count / 48)"
   ]
  },
  {
   "cell_type": "code",
   "execution_count": null,
   "metadata": {},
   "outputs": [],
   "source": []
  }
 ]
}