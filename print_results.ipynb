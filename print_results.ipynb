{
 "metadata": {
  "language_info": {
   "codemirror_mode": {
    "name": "ipython",
    "version": 3
   },
   "file_extension": ".py",
   "mimetype": "text/x-python",
   "name": "python",
   "nbconvert_exporter": "python",
   "pygments_lexer": "ipython3",
   "version": "3.8.5-final"
  },
  "orig_nbformat": 2,
  "kernelspec": {
   "name": "python3",
   "display_name": "Python 3",
   "language": "python"
  }
 },
 "nbformat": 4,
 "nbformat_minor": 2,
 "cells": [
  {
   "source": [
    "## Import Results"
   ],
   "cell_type": "markdown",
   "metadata": {}
  },
  {
   "cell_type": "code",
   "execution_count": 1,
   "metadata": {},
   "outputs": [],
   "source": [
    "import json\n",
    "\n",
    "# content predictions\n",
    "with open(\"predictions/\"+\"content_predictions.json\") as json_file:\n",
    "    content_predictions = json.load(json_file)\n",
    "\n",
    "# advertisement agency predictions\n",
    "with open(\"predictions/\"+\"advertisement_agency_predictions.json\") as json_file:\n",
    "    agency_predictions = json.load(json_file)\n",
    "\n",
    "# title predictions\n",
    "with open(\"predictions/\"+\"title_predictions.json\") as json_file:\n",
    "    title_predictions = json.load(json_file)"
   ]
  },
  {
   "source": [
    "## Show results for test documents"
   ],
   "cell_type": "markdown",
   "metadata": {}
  },
  {
   "cell_type": "code",
   "execution_count": 24,
   "metadata": {},
   "outputs": [
    {
     "output_type": "stream",
     "name": "stdout",
     "text": [
      "real - o x\nreal x - x\nfake x - x\nreal - x x\nreal x x x\nfake - x x\nfake x x x\nfake x x x\nfake o o x\nfake - o o\nreal o o o\nfake x x x\nfake x x x\nreal o o x\nreal o o o\nreal o o o\nreal o o x\nfake x x x\nfake x x x\nreal o o x\nreal o - o\nfake x - o\nfake x x x\nreal o o o\nreal o o x\nreal o - x\nreal o o o\nfake - o x\nfake o - x\nfake o o x\nreal o o o\nfake - o x\nfake x x x\nreal o o o\nreal o o o\nfake x x x\nfake o o o\nreal o o o\nreal o o o\nfake o o x\nfake - o x\nfake - o o\nreal o o x\nreal x - o\nfake x x x\nfake x x x\nreal - - x\nreal o o x\n0.9130434782608695\n"
     ]
    }
   ],
   "source": [
    "# labels for test data\n",
    "test_y = [\"real\",\"real\",\"fake\",\"real\",\"real\",\"fake\",\"fake\",\"fake\",\"fake\",\"fake\",\"real\",\"fake\",\"fake\",\"real\",\"real\",\"real\",\"real\",\"fake\",\"fake\",\"real\",\"real\",\"fake\",\"fake\",\"real\",\"real\",\"real\",\"real\",\"fake\",\"fake\",\"fake\",\"real\",\"fake\",\"fake\",\"real\",\"real\",\"fake\",\"fake\",\"real\",\"real\",\"fake\",\"fake\",\"fake\",\"real\",\"real\",\"fake\",\"fake\",\"real\",\"real\"]\n",
    "\n",
    "with open(\"test_document_ids.txt\",\"r\") as f:\n",
    "    test_document_ids = [line.rstrip() for line in f]\n",
    "index = 0\n",
    "total_count = 0\n",
    "count = 0\n",
    "for doc_id in test_document_ids:\n",
    "    warning_ads = \"-\"\n",
    "    warning_content = \"-\"\n",
    "    warning_title = \"-\"\n",
    "\n",
    "    ### Non Credible Articles\n",
    "    if agency_predictions[doc_id][\"certainity\"] > 0.5 and agency_predictions[doc_id][\"prediction\"] == \"fake\":\n",
    "        warning_ads = \"x\"\n",
    "\n",
    "    if content_predictions[doc_id][\"certainity\"] > 0.7 and content_predictions[doc_id][\"prediction\"] == \"fake\":\n",
    "        if (title_predictions[doc_id][\"prediction\"] == \"real\" and title_predictions[doc_id][\"certainity\"] > 0.7) == False:\n",
    "            warning_content = \"x\"\n",
    "\n",
    "    if title_predictions[doc_id][\"certainity\"] > 0.7 and title_predictions[doc_id][\"prediction\"] == \"fake\":\n",
    "        if (content_predictions[doc_id][\"prediction\"] == \"real\" and content_predictions[doc_id][\"certainity\"] > 0.7) == False:\n",
    "            warning_title = \"x\"\n",
    "    \n",
    "    ### Credible Articles\n",
    "    if agency_predictions[doc_id][\"certainity\"] > 0.5 and agency_predictions[doc_id][\"prediction\"] == \"real\":\n",
    "        warning_ads = \"o\"\n",
    "\n",
    "    if content_predictions[doc_id][\"certainity\"] > 0.7 and content_predictions[doc_id][\"prediction\"] == \"real\":\n",
    "        if (title_predictions[doc_id][\"prediction\"] == \"fake\" and title_predictions[doc_id][\"certainity\"] > 0.7) == False:\n",
    "            warning_content = \"o\"\n",
    "\n",
    "    if title_predictions[doc_id][\"certainity\"] > 0.7 and title_predictions[doc_id][\"prediction\"] == \"real\":\n",
    "        if (content_predictions[doc_id][\"prediction\"] == \"fake\" and content_predictions[doc_id][\"certainity\"] > 0.7) == False:\n",
    "            warning_title = \"o\"\n",
    "\n",
    "\n",
    "    if warning_content == \"x\" and warning_title == \"x\" and warning_ads == \"x\":\n",
    "        total_count += 1\n",
    "        if test_y[index] == \"fake\":\n",
    "            count += 1\n",
    "    if warning_content == \"o\" and warning_title == \"o\" and warning_ads == \"o\":\n",
    "        total_count += 1\n",
    "        if test_y[index] == \"real\":\n",
    "            count += 1\n",
    "\n",
    "    \n",
    "    print(test_y[index], warning_content,warning_title,warning_ads)\n",
    "    #print(test_y[index],content_predictions[doc_id][\"prediction\"], title_predictions[doc_id][\"prediction\"], agency_predictions[doc_id][\"prediction\"])\n",
    "    index += 1\n",
    "\n",
    "print(count/total_count)"
   ]
  },
  {
   "cell_type": "code",
   "execution_count": null,
   "metadata": {},
   "outputs": [],
   "source": []
  }
 ]
}